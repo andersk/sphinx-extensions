{
 "cells": [
  {
   "cell_type": "markdown",
   "metadata": {},
   "source": [
    "# nbsphinx\n",
    "\n",
    "* Homepage: https://github.com/spatialaudio/nbsphinx/\n",
    "* Documentation: https://nbsphinx.readthedocs.io/\n",
    "\n",
    "`nbsphinx` allows you to publish Jupyter notebooks as documentation pages.\n",
    "\n",
    "\n",
    "## Example\n",
    "\n",
    "\n",
    "This whole page is written in a Jupyter Notebook (see [Show Source](https://sphinx-extensions.readthedocs.io/en/latest/_sources/nbsphinx.ipynb.txt))."
   ]
  },
  {
   "cell_type": "code",
   "execution_count": null,
   "metadata": {},
   "outputs": [],
   "source": [
    "import datetime\n",
    "datetime.datetime.now()"
   ]
  },
  {
   "cell_type": "code",
   "execution_count": null,
   "metadata": {},
   "outputs": [],
   "source": [
    "import matplotlib\n",
    "import matplotlib.pyplot as plt\n",
    "import numpy as np\n",
    "\n",
    "# Data for plotting\n",
    "t = np.arange(0.0, 2.0, 0.01)\n",
    "s = 1 + np.sin(2 * np.pi * t)\n",
    "\n",
    "fig, ax = plt.subplots()\n",
    "ax.plot(t, s)\n",
    "\n",
    "ax.set(xlabel='time (s)', ylabel='voltage (mV)',\n",
    "       title='About as simple as it gets, folks')\n",
    "ax.grid()\n",
    "\n",
    "plt.show()"
   ]
  },
  {
   "cell_type": "markdown",
   "metadata": {},
   "source": [
    "## Installation\n",
    "\n",
    "```\n",
    "pip install nbsphinx\n",
    "```\n",
    "\n",
    "\n",
    "## Configuration\n",
    "\n",
    "```python\n",
    "# conf.py\n",
    "extensions = [\n",
    "    '...',\n",
    "    'nbsphinx',\n",
    "]\n",
    "```"
   ]
  }
 ],
 "metadata": {
  "kernelspec": {
   "display_name": "Python 3",
   "language": "python",
   "name": "python3"
  },
  "language_info": {
   "codemirror_mode": {
    "name": "ipython",
    "version": 3
   },
   "file_extension": ".py",
   "mimetype": "text/x-python",
   "name": "python",
   "nbconvert_exporter": "python",
   "pygments_lexer": "ipython3",
   "version": "3.8.1"
  }
 },
 "nbformat": 4,
 "nbformat_minor": 4
}
